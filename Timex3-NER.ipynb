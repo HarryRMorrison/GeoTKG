{
 "cells": [
  {
   "cell_type": "code",
   "execution_count": null,
   "id": "52c3349c",
   "metadata": {},
   "outputs": [],
   "source": [
    "from scripts.model_utils import Utils\n",
    "import torch\n",
    "from transformers import RobertaForTokenClassification, RobertaTokenizerFast, TrainingArguments, Trainer\n",
    "from scripts.Reader import obtain_dataset, obtain_label_list\n",
    "\n",
    "print(\"CUDA available:\", torch.cuda.is_available())\n",
    "if torch.cuda.is_available():\n",
    "    device = torch.device('cuda')\n",
    "print(\"Current Device:\", torch.cuda.current_device(), torch.cuda.get_device_name(torch.cuda.current_device()))"
   ]
  },
  {
   "cell_type": "code",
   "execution_count": null,
   "id": "7de95e43",
   "metadata": {},
   "outputs": [],
   "source": [
    "# Load tokenizer and model\n",
    "label_list, label2id, id2label = obtain_label_list(\"TempEval3\")\n",
    "model_name = 'roberta-base'\n",
    "tokenizer = RobertaTokenizerFast.from_pretrained(model_name, add_prefix_space=True)\n",
    "model = RobertaForTokenClassification.from_pretrained(model_name, num_labels=len(label_list), label2id=label2id, id2label=id2label)"
   ]
  },
  {
   "cell_type": "code",
   "execution_count": null,
   "id": "c0c17999",
   "metadata": {},
   "outputs": [],
   "source": [
    "training_args = TrainingArguments(\n",
    "    output_dir=\"./results/Timex3-NER\",\n",
    "    logging_dir=\"./logs/Timex3-NER\",\n",
    "    eval_strategy=\"steps\",\n",
    "    save_strategy=\"steps\",\n",
    "    logging_steps=100,\n",
    "    num_train_epochs=1,\n",
    "    save_total_limit=1,\n",
    "    per_device_train_batch_size=16,\n",
    "    per_device_eval_batch_size=32,\n",
    "    learning_rate=5e-5,\n",
    "    load_best_model_at_end=True,\n",
    "    metric_for_best_model=\"f1\"\n",
    ")"
   ]
  },
  {
   "cell_type": "code",
   "execution_count": null,
   "id": "e9dc0c23",
   "metadata": {},
   "outputs": [],
   "source": [
    "utils = Utils(tokenizer, label_list)\n",
    "tokenized_datasets = utils.tokenize_datasets(obtain_dataset(\"TempEval3\"))"
   ]
  },
  {
   "cell_type": "code",
   "execution_count": null,
   "id": "a96c7c00",
   "metadata": {},
   "outputs": [],
   "source": [
    "tokenized_datasets"
   ]
  },
  {
   "cell_type": "code",
   "execution_count": null,
   "id": "1164e0eb",
   "metadata": {},
   "outputs": [],
   "source": [
    "timex3_ner = Trainer(\n",
    "    model=model,\n",
    "    args=training_args,\n",
    "    compute_metrics=utils.compute_metrics,\n",
    "    data_collator=utils.data_collator,\n",
    "    tokenizer=tokenizer,\n",
    "    train_dataset=tokenized_datasets[\"train\"],\n",
    "    eval_dataset=tokenized_datasets[\"eval\"],\n",
    ")"
   ]
  },
  {
   "cell_type": "code",
   "execution_count": null,
   "id": "e9611289",
   "metadata": {},
   "outputs": [],
   "source": [
    "model.to(device)\n",
    "timex3_ner.train()"
   ]
  },
  {
   "cell_type": "code",
   "execution_count": null,
   "id": "513a2e98",
   "metadata": {},
   "outputs": [],
   "source": [
    "timex3_ner.evaluate(tokenized_datasets[\"test\"])"
   ]
  },
  {
   "cell_type": "code",
   "execution_count": null,
   "id": "bd85d6bd",
   "metadata": {},
   "outputs": [],
   "source": [
    "timex3_ner.save_model(\"./results/Timex3-NER/final_model\")"
   ]
  }
 ],
 "metadata": {
  "kernelspec": {
   "display_name": "GeoTKG",
   "language": "python",
   "name": "python3"
  },
  "language_info": {
   "codemirror_mode": {
    "name": "ipython",
    "version": 3
   },
   "file_extension": ".py",
   "mimetype": "text/x-python",
   "name": "python",
   "nbconvert_exporter": "python",
   "pygments_lexer": "ipython3",
   "version": "3.13.5"
  }
 },
 "nbformat": 4,
 "nbformat_minor": 5
}
