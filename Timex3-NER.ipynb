{
 "cells": [
  {
   "cell_type": "code",
   "execution_count": null,
   "id": "52c3349c",
   "metadata": {},
   "outputs": [],
   "source": [
    "from scripts.Model import Model\n",
    "import torch\n",
    "from transformers import RobertaForTokenClassification, RobertaTokenizerFast, TrainingArguments\n",
    "from scripts.Reader import obtain_dataset, obtain_label_list\n",
    "\n",
    "print(\"CUDA available:\", torch.cuda.is_available())\n",
    "if torch.cuda.is_available():\n",
    "    print(\"Switching to GPU...\")\n",
    "    device = torch.device('cuda')\n",
    "print(\"Current device index:\", torch.cuda.current_device())\n",
    "print(\"Device name:\", torch.cuda.get_device_name(torch.cuda.current_device()))"
   ]
  },
  {
   "cell_type": "code",
   "execution_count": null,
   "id": "7de95e43",
   "metadata": {},
   "outputs": [],
   "source": [
    "# Load tokenizer and model\n",
    "label_list, label2id, id2label = obtain_label_list(\"TempEval3\")\n",
    "model_name = 'roberta-large'\n",
    "tokenizer = RobertaTokenizerFast.from_pretrained(model_name, add_prefix_space=True)\n",
    "model = RobertaForTokenClassification.from_pretrained(model_name, num_labels=len(label_list), label2id=label2id, id2label=id2label)"
   ]
  },
  {
   "cell_type": "code",
   "execution_count": null,
   "id": "1164e0eb",
   "metadata": {},
   "outputs": [],
   "source": [
    "model_instance = Model(\n",
    "    device=device,\n",
    "    model_name=model_name,\n",
    "    tokenizer=tokenizer,\n",
    "    model=model,\n",
    "    label_list=label_list\n",
    ")\n",
    "\n",
    "tokenized_datasets = model_instance.tokenize_datasets(obtain_dataset(\"TempEval3\", [\"silver-1\", \"platinum\"]))"
   ]
  },
  {
   "cell_type": "code",
   "execution_count": null,
   "id": "01d322cc",
   "metadata": {},
   "outputs": [],
   "source": [
    "training_args = TrainingArguments(\n",
    "    output_dir=\"./results/Timex3-NER\",\n",
    "    logging_dir=\"./logs/Timex3-NER\",\n",
    "    eval_strategy=\"steps\",\n",
    "    save_strategy=\"steps\",\n",
    "    logging_steps=100,\n",
    "    num_train_epochs=3,\n",
    "    save_total_limit=1,\n",
    "    per_device_train_batch_size=16,\n",
    "    per_device_eval_batch_size=32,\n",
    "    learning_rate=5e-5,\n",
    "    load_best_model_at_end=True,\n",
    "    metric_for_best_model=\"f1\"\n",
    ")\n",
    "\n",
    "model_instance.set_training_args(training_args)"
   ]
  },
  {
   "cell_type": "code",
   "execution_count": null,
   "id": "e9611289",
   "metadata": {},
   "outputs": [],
   "source": [
    "model_instance.train(tokenized_datasets)"
   ]
  },
  {
   "cell_type": "code",
   "execution_count": null,
   "id": "91e5cbd2",
   "metadata": {},
   "outputs": [],
   "source": [
    "model_instance.evaluate(tokenized_datasets)"
   ]
  },
  {
   "cell_type": "code",
   "execution_count": null,
   "id": "76461500",
   "metadata": {},
   "outputs": [],
   "source": [
    "model_instance.print_classification_report(tokenized_datasets[\"test\"][\"ner_tags\"], model_instance.predict(tokenized_datasets[\"test\"]), id2label)"
   ]
  },
  {
   "cell_type": "code",
   "execution_count": null,
   "id": "5af8664a",
   "metadata": {},
   "outputs": [],
   "source": [
    "tokenized_datasets"
   ]
  },
  {
   "cell_type": "code",
   "execution_count": null,
   "id": "bd85d6bd",
   "metadata": {},
   "outputs": [],
   "source": []
  }
 ],
 "metadata": {
  "kernelspec": {
   "display_name": "GeoTKG",
   "language": "python",
   "name": "python3"
  },
  "language_info": {
   "codemirror_mode": {
    "name": "ipython",
    "version": 3
   },
   "file_extension": ".py",
   "mimetype": "text/x-python",
   "name": "python",
   "nbconvert_exporter": "python",
   "pygments_lexer": "ipython3",
   "version": "3.13.5"
  }
 },
 "nbformat": 4,
 "nbformat_minor": 5
}
